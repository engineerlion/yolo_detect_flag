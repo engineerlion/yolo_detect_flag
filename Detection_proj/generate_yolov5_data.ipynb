{
 "cells": [
  {
   "cell_type": "code",
   "execution_count": 1,
   "id": "ae15ece1",
   "metadata": {},
   "outputs": [],
   "source": [
    "import os\n",
    "import json"
   ]
  },
  {
   "cell_type": "code",
   "execution_count": 4,
   "id": "57416ab9",
   "metadata": {},
   "outputs": [],
   "source": [
    "data = ['a b b\\n','b\\n','c\\n']\n",
    "#单层列表写入文件\n",
    "with open(\"test_textdata.txt\",\"w\") as f:\n",
    "    f.writelines(data)"
   ]
  },
  {
   "cell_type": "code",
   "execution_count": 12,
   "id": "3e72d9e4",
   "metadata": {},
   "outputs": [],
   "source": []
  },
  {
   "cell_type": "code",
   "execution_count": 2,
   "id": "9e8b59a8",
   "metadata": {},
   "outputs": [],
   "source": [
    "def write_txt(data,save_dir):\n",
    "    with open(save_dir,\"w\") as f:\n",
    "        f.writelines(data)\n",
    "        \n",
    "def generate_label(bbox,img_w,img_h,class_id):\n",
    "    x1,y1 = bbox[0]\n",
    "    x2,y2 = bbox[1]\n",
    "    \n",
    "    bbox_w = x2-x1\n",
    "    bbox_h = y2-y1\n",
    "    x_center = (x1+x2)/2\n",
    "    y_center = (y1+y2)/2\n",
    "    \n",
    "    x_center /= img_w\n",
    "    y_center /= img_h\n",
    "    bbox_w /= img_w\n",
    "    bbox_h /= img_h\n",
    "    \n",
    "    label = \"{} {} {} {} {}\\n\".format(class_id,x_center,y_center,bbox_w,bbox_h)\n",
    "    return label\n"
   ]
  },
  {
   "cell_type": "code",
   "execution_count": 3,
   "id": "ebb6a741",
   "metadata": {},
   "outputs": [
    {
     "name": "stderr",
     "output_type": "stream",
     "text": [
      "100%|██████████| 1502/1502 [00:00<00:00, 24415.07it/s]"
     ]
    },
    {
     "name": "stdout",
     "output_type": "stream",
     "text": [
      "/data/flag/test_dataset_label/flag_ann_finaltest_update.txt\n"
     ]
    },
    {
     "name": "stderr",
     "output_type": "stream",
     "text": [
      "\n"
     ]
    }
   ],
   "source": [
    "import numpy as np\n",
    "from PIL import Image\n",
    "from tqdm import tqdm\n",
    "\n",
    "def img2label_paths(img_paths):\n",
    "    # Define label paths as a function of image paths\n",
    "    sa, sb = os.sep + 'images' + os.sep, os.sep + 'labels' + os.sep  # /images/, /labels/ substrings\n",
    "    return [sb.join(x.rsplit(sa, 1)).rsplit('.', 1)[0] + '.txt' for x in img_paths]\n",
    "\n",
    "\n",
    "#json_files = ['flag_ann_train_all.json','flag_ann_val_all.json','flag_ann_test_all.json']\n",
    "json_files = ['flag_ann_finaltest_update.json']\n",
    "img_root = '/data/flag/test_dataset_label'\n",
    "json_root = '/data/flag'\n",
    "save_root = '/data/flag/test_dataset_label/labels'\n",
    "for js in json_files:\n",
    "    json_path = os.path.join(json_root,js)\n",
    "    with open(json_path) as f:\n",
    "        imgs = json.load(f)\n",
    "    imgpath_array = []\n",
    "    imgpath_path = os.path.join(img_root,js[:-4]+'txt')\n",
    "    print(imgpath_path)\n",
    "    for img in tqdm(imgs):\n",
    "        txt_array = []\n",
    "        img_path = img['image_path']\n",
    "        if not os.path.exists(img_path):\n",
    "            img_path = os.path.join(img_root,'images',img['image_path'])\n",
    "        assert os.path.exists(img_path),'error path'\n",
    "        imgpath_array.append(img_path+'\\n')\n",
    "        #txt_path = os.path.join(save_root,img['image_path'][:-3]+'txt')\n",
    "        txt_path = img2label_paths([img_path])[0]\n",
    "        if os.path.exists(txt_path):\n",
    "            continue\n",
    "        if not os.path.exists(os.path.dirname(txt_path)):\n",
    "            os.makedirs(os.path.dirname(txt_path))\n",
    "        #print(txt_path)\n",
    "        img_file = Image.open(img_path)\n",
    "        w,h = img_file.size\n",
    "        anno = img['annotation']\n",
    "        for an in anno:\n",
    "            class_id = an['class_id']\n",
    "            bbox = an['bbox']\n",
    "            label = generate_label(bbox,w,h,class_id)\n",
    "            txt_array.append(label)\n",
    "        write_txt(txt_array,txt_path)\n",
    "    write_txt(imgpath_array,imgpath_path)\n",
    "    #assert 0"
   ]
  },
  {
   "cell_type": "code",
   "execution_count": 27,
   "id": "93f9459a",
   "metadata": {},
   "outputs": [
    {
     "data": {
      "text/plain": [
       "728"
      ]
     },
     "execution_count": 27,
     "metadata": {},
     "output_type": "execute_result"
    }
   ],
   "source": [
    "len(imgpath_array)"
   ]
  },
  {
   "cell_type": "code",
   "execution_count": null,
   "id": "db0bfdd6",
   "metadata": {},
   "outputs": [],
   "source": []
  }
 ],
 "metadata": {
  "kernelspec": {
   "display_name": "Python [conda env:map] *",
   "language": "python",
   "name": "conda-env-map-py"
  },
  "language_info": {
   "codemirror_mode": {
    "name": "ipython",
    "version": 3
   },
   "file_extension": ".py",
   "mimetype": "text/x-python",
   "name": "python",
   "nbconvert_exporter": "python",
   "pygments_lexer": "ipython3",
   "version": "3.7.10"
  }
 },
 "nbformat": 4,
 "nbformat_minor": 5
}
